{
  "nbformat": 4,
  "nbformat_minor": 0,
  "metadata": {
    "colab": {
      "provenance": [],
      "include_colab_link": true
    },
    "kernelspec": {
      "name": "python3",
      "display_name": "Python 3"
    },
    "language_info": {
      "name": "python"
    }
  },
  "cells": [
    {
      "cell_type": "markdown",
      "metadata": {
        "id": "view-in-github",
        "colab_type": "text"
      },
      "source": [
        "<a href=\"https://colab.research.google.com/github/lvrheaume/programming-fundamentals-1/blob/main/Chapter_5A_Practice.ipynb\" target=\"_parent\"><img src=\"https://colab.research.google.com/assets/colab-badge.svg\" alt=\"Open In Colab\"/></a>"
      ]
    },
    {
      "cell_type": "markdown",
      "source": [
        "# First:\n",
        "1. Log in with your ACC Google account\n",
        "2. Use the **File > Save a Copy in Drive** menu option in the top left to make a copy of this notebook that you can edit."
      ],
      "metadata": {
        "id": "ykQz4xHrTbcg"
      }
    },
    {
      "cell_type": "markdown",
      "source": [
        "# Part 1\n",
        "\n",
        "Write a hierarchy chart for the steps\n",
        "needed to make a sandwich (no more than 5 steps). Then write the Python program to display the\n",
        "steps. (See the example in Chapter 5.3 -- your work should look very similar)\n",
        "\n",
        "1. First draw the hierarchy of the functions, The main function should:\n",
        "- Display an intro message to the user (Ex.– “Hello this is how you make a\n",
        "sandwich”)\n",
        "- Call the step1 function\n",
        "- Call the step2 function\n",
        "- Call all remaining step functions\n",
        "- Display an exit message on a new line (Ex. – “Goodbye”)\n",
        "2. Then write the Python Program\n",
        "- Intro function should display your intro message\n",
        "- Step1 function should display step 1\n",
        "- Step2 function should display step 2 … etc.\n",
        "- Goodbye function should display your final message\n",
        "\n",
        "Again, the example in the book is your friend. Attach your hierarchy diagram to the assignment on Blackboard, or copy-paste it into this Colab notebook."
      ],
      "metadata": {
        "id": "1MYHqF1uS1NF"
      }
    },
    {
      "cell_type": "code",
      "execution_count": null,
      "metadata": {
        "id": "NWzkKAtDSqz7"
      },
      "outputs": [],
      "source": [
        "# Write your code here"
      ]
    },
    {
      "cell_type": "markdown",
      "source": [
        "# Part 2\n",
        "Write a program that asks the user to enter a\n",
        "distance in kilometers, and then converts that distance to miles. The\n",
        "conversion formula is as follows:\n",
        "\n",
        "**Miles = Kilometers x 0.6214**\n",
        "\n",
        "1. Your program should have two functions:\n",
        "- a main function and\n",
        "- a function to convert and print the miles\n",
        "2. The main function should ask the user for number of kilometers and pass\n",
        "that to the conversion function.\n",
        "3. The conversion function should calculate the miles and then display to the user\n",
        "4. Use a global constant for the conversion factor\n",
        "5. Turn in your program to the practice assignment link in course content."
      ],
      "metadata": {
        "id": "DbdKNL5RTJo8"
      }
    },
    {
      "cell_type": "code",
      "source": [
        "# Write your code here"
      ],
      "metadata": {
        "id": "tHn8DeDbTW4l"
      },
      "execution_count": null,
      "outputs": []
    },
    {
      "cell_type": "markdown",
      "source": [
        "# Submission\n",
        "\n",
        "#### When you're done, you can download and submit:\n",
        "1. Click the \"File\" menu in the top left,\n",
        "2. Towards the bottom of the menu, press Download > Download .py\n",
        "3. Submit your .py file\n",
        "\n",
        "#### Or submit a link to your notebook:\n",
        "1. Click the \"Share\" button in the top right,\n",
        "2. Allow access to \"Anyone With The Link\"\n",
        "3. Copy the link into the submission page on Blackboard"
      ],
      "metadata": {
        "id": "mN-3r4UZTWYJ"
      }
    }
  ]
}