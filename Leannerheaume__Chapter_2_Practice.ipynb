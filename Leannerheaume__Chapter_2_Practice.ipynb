{
  "nbformat": 4,
  "nbformat_minor": 0,
  "metadata": {
    "colab": {
      "provenance": [],
      "include_colab_link": true
    },
    "kernelspec": {
      "name": "python3",
      "display_name": "Python 3"
    },
    "language_info": {
      "name": "python"
    }
  },
  "cells": [
    {
      "cell_type": "markdown",
      "metadata": {
        "id": "view-in-github",
        "colab_type": "text"
      },
      "source": [
        "<a href=\"https://colab.research.google.com/github/lvrheaume/programming-fundamentals-1/blob/main/Leannerheaume__Chapter_2_Practice.ipynb\" target=\"_parent\"><img src=\"https://colab.research.google.com/assets/colab-badge.svg\" alt=\"Open In Colab\"/></a>"
      ]
    },
    {
      "cell_type": "markdown",
      "source": [
        "# First:\n",
        "1. Log in with your ACC Google account\n",
        "2. Use the **File > Save a Copy in Drive** menu option in the top left to make a copy of this notebook that you can edit."
      ],
      "metadata": {
        "id": "ykQz4xHrTbcg"
      }
    },
    {
      "cell_type": "markdown",
      "source": [
        "# Part 1\n",
        "\n",
        "1. Write a 1-2 line comment at the beginning of your program\n",
        "2. In three separate input statements, ask the user to enter the costs for the following items: Hamburger, Fries,\n",
        "Shake.\n",
        "3. Calculate the total cost and display with appropriate message (Example: The cost is: \\$45)\n",
        "4. Calculate the average cost and display with appropriate message (Example: The average cost is: $15)\n",
        "5. Note: Don’t worry about displaying cents to 2 decimals."
      ],
      "metadata": {
        "id": "1MYHqF1uS1NF"
      }
    },
    {
      "cell_type": "code",
      "execution_count": 4,
      "metadata": {
        "id": "NWzkKAtDSqz7"
      },
      "outputs": [],
      "source": [
        "#LeAnne Rheaume Programming Fundamentals I chapter 2 practice\n",
        "#python program designed as budgeting app and IPO chart\n",
        "\n",
        "def item_cost():\n",
        "\n",
        "  item_cost = float(input(\"Enter the cost of the item: \"))\n",
        "  return item_cost\n",
        "\n",
        "  print(\"The total cost is: $\", item_cost)"
      ]
    },
    {
      "cell_type": "markdown",
      "source": [],
      "metadata": {
        "id": "u9Tudkz5kgtc"
      }
    },
    {
      "cell_type": "code",
      "source": [
        "def main():\n",
        "\n",
        "  main()\n",
        "\n",
        "  def item_cost():\n",
        "\n",
        "        item_cost = float(input(\"Enter the cost of the item:\"))\n",
        "        return item_cost()\n",
        "\n",
        "  def total_cost(hamburger_cost, fries_cost, shake_cost):\n",
        "        return total_cost()\n",
        "\n",
        "  print(\"The total cost is:\", total_cost)\n",
        "\n",
        "  def average_cost(total_cost,Any,/):\n",
        "        return average_cost()\n",
        "\n",
        "        print(\"The average cost is:\", average_cost)\n",
        "\n",
        "def main():\n",
        "    def item_cost():\n",
        "        item_cost = float(input(\"Enter the cost of the item:\"))\n",
        "        return item_cost\n",
        "\n",
        "    def total_cost(hamburger_cost, fries_cost, shake_cost):\n",
        "        return hamburger_cost + fries_cost + shake_cost\n",
        "\n",
        "    hamburger_cost = (float,input(\"Enter the cost of the hamburger: \"))\n",
        "    fries_cost = (float,input(\"Enter the cost of the fries: \"))\n",
        "    shake_cost = (float,input(\"Enter the cost of the shake: \"))\n",
        "\n",
        "    total = total_cost(hamburger_cost, fries_cost, shake_cost)\n",
        "    print(\"The total cost is:\", total)\n",
        "\n",
        "    def average_cost(total_cost, num_items):\n",
        "        item_cost((hamburger_cost, fries_cost, shake_cost), (), num_items)\n",
        "\n",
        "    average = average_cost(total, 3)\n",
        "    print(\"The average cost is:\", average)\n",
        "\n",
        "#print(input(\"what do you want to order?\"))\n",
        "\n",
        "#hamburger_cost = (float,input(\"Enter the cost of the hamburger: \"))\n",
        "#fries_cost = (float,input(\"Enter the cost of the fries: \"))\n",
        "def main():\n",
        "\n",
        "  def item_cost():\n",
        "        item_cost = float(input(\"Enter the cost of the item:\"))\n",
        "        return item_cost\n",
        "\n",
        "  def total_cost(hamburger_cost, fries_cost, shake_cost):\n",
        "        return hamburger_cost + fries_cost + shake_cost\n",
        "\n",
        "  hamburger_cost = float(input(\"Enter the cost of the hamburger: \"))\n",
        "  fries_cost = float(input(\"Enter the cost of the fries: \"))\n",
        "  shake_cost = float(input(\"Enter the cost of the shake: \"))\n",
        "\n",
        "  total = total_cost(hamburger_cost, fries_cost, shake_cost)\n",
        "  print(\"The total cost is:\",(\"$\"),total)\n",
        "\n",
        "  def average_cost(total_cost, num_items):\n",
        "        return total_cost / num_items\n",
        "\n",
        "  average = average_cost(total, 3)\n",
        "  print(\"The average cost is:\",\"$\",average)\n",
        "\n",
        "main()\n",
        "#print(input(\"what do you want to order?\"))\n",
        "\n",
        "# The following lines are removed because they cause errors and are not part of a defined function.\n",
        "# hamburger_cost = (float,input(\"Enter the cost of the hamburger: \"))\n",
        "# fries_cost = (float,input(\"Enter the cost of the fries: \"))\n",
        "# shake_cost = (float,input(\"Enter the cost of the shake: \"))\n",
        "\n",
        "#print(float, return(\"The total for your order is: $\", \"total_cost\"))"
      ],
      "metadata": {
        "colab": {
          "base_uri": "https://localhost:8080/"
        },
        "id": "x_N6KfuzkhN3",
        "outputId": "468925f7-72a6-4044-b3fd-5599393b1676"
      },
      "execution_count": 41,
      "outputs": [
        {
          "output_type": "stream",
          "name": "stdout",
          "text": [
            "Enter the cost of the hamburger: 5\n",
            "Enter the cost of the fries: 6\n",
            "Enter the cost of the shake: 7\n",
            "The total cost is: $ 18.0\n",
            "The average cost is: $ 6.0\n"
          ]
        }
      ]
    },
    {
      "cell_type": "markdown",
      "source": [
        "# Part 2\n",
        "First make an IPO diagram and then write a Python program to do the following:\n",
        "1. Accept input of monthly gross income from the user.\n",
        "2. Accept input of monthly paycheck deductions (one number) from the user.\n",
        "3. Calculate net monthly income.\n",
        "4. Display the monthly net income with an appropriate label (Ex. Monthly net\n",
        "income is: ) followed by the result formatted in to 2 decimal places preceded\n",
        "by a dollar sign and comma separators ($nn,nnn.nn). Don’t forget to\n",
        "suppress the extra spaces.\n",
        "5. Calculate yearly gross pay and display with appropriate label and formatting.\n",
        "6. Calculate yearly net pay and display with appropriate label and formatting.\n",
        "7. Run your program and make any corrections. Turn in your program and IPO\n",
        "chart to the practice assignment link in course content."
      ],
      "metadata": {
        "id": "DbdKNL5RTJo8"
      }
    },
    {
      "cell_type": "code",
      "source": [
        "# Write your code here\n",
        "monthly_gross_income = float(input(\"Enter your monthly gross income: \"))\n",
        "monthly_deductions = float(input(\"Enter your monthly paycheck deductions: \"))\n",
        "\n",
        "monthly_net_income = monthly_gross_income - monthly_deductions\n",
        "yearly_gross_pay = monthly_gross_income * 12\n",
        "yearly_net_pay = monthly_net_income * 12\n",
        "\n",
        "# Formatting the outputs from user:\n",
        "formatted_monthly_net = \"${:,.2f}\".format(monthly_net_income)\n",
        "formatted_yearly_gross = \"${:,.2f}\".format(yearly_gross_pay)\n",
        "formatted_yearly_net = \"${:,.2f}\".format(yearly_net_pay)\n",
        "\n",
        "#printing the outcomes of the IPO and totals for budgeting\n",
        "print(\"Your paycheck breaks down like the following:\")\n",
        "print(\"Monthly net income is:\", formatted_monthly_net)\n",
        "print(\"Yearly gross pay is:\", formatted_yearly_gross)\n",
        "print(\"Yearly net pay is:\", formatted_yearly_net)\n"
      ],
      "metadata": {
        "id": "tHn8DeDbTW4l",
        "colab": {
          "base_uri": "https://localhost:8080/"
        },
        "outputId": "7fd2cb90-cf92-4a93-9ac4-1bae9e640a79"
      },
      "execution_count": 40,
      "outputs": [
        {
          "output_type": "stream",
          "name": "stdout",
          "text": [
            "Enter your monthly gross income: 7814.23\n",
            "Enter your monthly paycheck deductions: 360.07\n",
            "Your paycheck breaks down like the following:\n",
            "Monthly net income is: $7,454.16\n",
            "Yearly gross pay is: $93,770.76\n",
            "Yearly net pay is: $89,449.92\n"
          ]
        }
      ]
    },
    {
      "cell_type": "markdown",
      "source": [
        "# Submission\n",
        "\n",
        "#### When you're done, you can download and submit:\n",
        "1. Click the \"File\" menu in the top left,\n",
        "2. Towards the bottom of the menu, press Download > Download .ipynb\n",
        "3. Submit your .ipynb file and your IPO Diagram\n",
        "\n",
        "#### Or submit a link to your notebook:\n",
        "1. Click the \"Share\" button in the top right,\n",
        "2. Allow access to \"Anyone With The Link\"\n",
        "3. Copy the link into the submission page on Blackboard, and attach your IPO Diagram"
      ],
      "metadata": {
        "id": "mN-3r4UZTWYJ"
      }
    }
  ]
}