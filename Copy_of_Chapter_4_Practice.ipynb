{
  "nbformat": 4,
  "nbformat_minor": 0,
  "metadata": {
    "colab": {
      "provenance": [],
      "include_colab_link": true
    },
    "kernelspec": {
      "name": "python3",
      "display_name": "Python 3"
    },
    "language_info": {
      "name": "python"
    }
  },
  "cells": [
    {
      "cell_type": "markdown",
      "metadata": {
        "id": "view-in-github",
        "colab_type": "text"
      },
      "source": [
        "<a href=\"https://colab.research.google.com/github/lvrheaume/programming-fundamentals-1/blob/main/Copy_of_Chapter_4_Practice.ipynb\" target=\"_parent\"><img src=\"https://colab.research.google.com/assets/colab-badge.svg\" alt=\"Open In Colab\"/></a>"
      ]
    },
    {
      "cell_type": "markdown",
      "source": [
        "# First:\n",
        "1. Log in with your ACC Google account\n",
        "2. Use the **File > Save a Copy in Drive** menu option in the top left to make a copy of this notebook that you can edit."
      ],
      "metadata": {
        "id": "ykQz4xHrTbcg"
      }
    },
    {
      "cell_type": "markdown",
      "source": [
        "# Part 1\n",
        "\n",
        "A bug collector collects bugs every day for five days. Write a program that keeps a running total of the number of bugs collected during the five days. The loop should ask for the number of bugs collected for each day, and when the loop is finished, the program should display the total number of bugs collected."
      ],
      "metadata": {
        "id": "1MYHqF1uS1NF"
      }
    },
    {
      "cell_type": "code",
      "execution_count": 15,
      "metadata": {
        "id": "NWzkKAtDSqz7",
        "colab": {
          "base_uri": "https://localhost:8080/",
          "height": 228
        },
        "outputId": "42e8f9d8-567b-4608-ac77-240193f2f3b5"
      },
      "outputs": [
        {
          "name": "stdout",
          "output_type": "stream",
          "text": [
            "How many bugs did you catch today?8\n"
          ]
        },
        {
          "output_type": "error",
          "ename": "NameError",
          "evalue": "name 'days_of_bug_collecting' is not defined",
          "traceback": [
            "\u001b[0;31m---------------------------------------------------------------------------\u001b[0m",
            "\u001b[0;31mNameError\u001b[0m                                 Traceback (most recent call last)",
            "\u001b[0;32m<ipython-input-15-a5ba779c6294>\u001b[0m in \u001b[0;36m<cell line: 0>\u001b[0;34m()\u001b[0m\n\u001b[1;32m     11\u001b[0m \u001b[0mint\u001b[0m\u001b[0;34m(\u001b[0m\u001b[0minput\u001b[0m\u001b[0;34m(\u001b[0m\u001b[0;34m\"How many bugs did you catch today?\"\u001b[0m\u001b[0;34m)\u001b[0m\u001b[0;34m)\u001b[0m\u001b[0;34m\u001b[0m\u001b[0;34m\u001b[0m\u001b[0m\n\u001b[1;32m     12\u001b[0m \u001b[0;34m\u001b[0m\u001b[0m\n\u001b[0;32m---> 13\u001b[0;31m \u001b[0;32mwhile\u001b[0m \u001b[0mdays_of_bug_collecting\u001b[0m \u001b[0;34m<\u001b[0m \u001b[0;36m5\u001b[0m\u001b[0;34m:\u001b[0m\u001b[0;34m\u001b[0m\u001b[0;34m\u001b[0m\u001b[0m\n\u001b[0m\u001b[1;32m     14\u001b[0m \u001b[0;34m\u001b[0m\u001b[0m\n\u001b[1;32m     15\u001b[0m     \u001b[0mdays_of_bug_collecting_trip\u001b[0m \u001b[0;34m+=\u001b[0m \u001b[0;36m1\u001b[0m\u001b[0;34m\u001b[0m\u001b[0;34m\u001b[0m\u001b[0m\n",
            "\u001b[0;31mNameError\u001b[0m: name 'days_of_bug_collecting' is not defined"
          ]
        }
      ],
      "source": [
        "#lrheaume_chap4 Practice\n",
        "#bug collector_chap4\n",
        "#bug collecting trip = 5 days\n",
        "#total bugs caught =x\n",
        "#days bug collecting = y\n",
        "def main():\n",
        "\n",
        "  def days_bug_collecting():\n",
        "    days_of_bug_collecting_trip = 0\n",
        "    total_bugs_caught = 0\n",
        "int(input(\"How many bugs did you catch today?\"))\n",
        "\n",
        "while days_of_bug_collecting < 5:\n",
        "\n",
        "    days_of_bug_collecting_trip += 1\n",
        "\n",
        "def bug_capture_running_total():\n",
        "  total_bugs_caught = 0\n",
        "  days_bug_collecting = 0\n",
        "\n",
        "  def bugs_caught_today():\n",
        "    bugs_caught_today = 0\n",
        "    bugs_caught_today += total_bugs_caught\n",
        "    days_bug_collecting += 1\n",
        "    return bugs_caught_today(input(\"How many bugs did you catch today?\"))\n",
        "\n",
        "  while days_bug_collecting < 5:\n",
        "    total_bugs_caught = int(input(\"How many bugs did you catch today?\"))\n",
        "    total_bugs_caught += bugs_caught_today\n",
        "    days_bug_collecting += 1\n",
        "    return total_bugs_caught(input(\"How many bugs did you catch today?\"))\n",
        "\n",
        "  print(\"Total bugs caught over the trip:\", total_bugs_caught)\n",
        "  return total_bugs_caught\n",
        "main()\n"
      ]
    },
    {
      "cell_type": "code",
      "source": [
        "#lrheaume_chap4 Practice\n",
        "#bug collector_chap4\n",
        "#bug collecting trip = 5 days\n",
        "#total bugs caught =x\n",
        "#days bug collecting = y\n",
        "def main():\n",
        "  # Initialize days_of_bug_collecting_trip and total_bugs_caught outside the function\n",
        "  days_of_bug_collecting_trip = 0\n",
        "  total_bugs_caught = 0\n",
        "\n",
        "  # Remove the unnecessary nested functions and streamline the logic\n",
        "  while days_of_bug_collecting_trip < 5:\n",
        "    # Get the number of bugs caught today and add it to the total\n",
        "    bugs_caught_today = int(input(\"How many bugs did you catch today?\"))\n",
        "    total_bugs_caught += bugs_caught_today\n",
        "\n",
        "    # Increment the day counter\n",
        "    days_of_bug_collecting_trip += 1\n",
        "\n",
        "  # Print the total bugs caught\n",
        "  print(\"Total bugs caught over the trip:\", total_bugs_caught)\n",
        "\n",
        "# Call the main function to start the program\n",
        "main()2"
      ],
      "metadata": {
        "colab": {
          "base_uri": "https://localhost:8080/"
        },
        "id": "lrhMTsldVAUF",
        "outputId": "89a31003-7ec3-4d3d-9e65-31c368aef1ee"
      },
      "execution_count": 16,
      "outputs": [
        {
          "output_type": "stream",
          "name": "stdout",
          "text": [
            "How many bugs did you catch today?8\n",
            "How many bugs did you catch today?8\n",
            "How many bugs did you catch today?2\n",
            "How many bugs did you catch today?1\n",
            "How many bugs did you catch today?65\n",
            "Total bugs caught over the trip: 84\n"
          ]
        }
      ]
    },
    {
      "cell_type": "markdown",
      "source": [
        "# Part 2\n",
        "Write a program with a loop that asks the user to enter a series of positive numbers. The user should enter a negative number to signal the end of the series. After all the positive numbers have been entered, the program should display their sum."
      ],
      "metadata": {
        "id": "DbdKNL5RTJo8"
      }
    },
    {
      "cell_type": "code",
      "source": [
        "def main():\n",
        "  sum_of_positive_numbers()\n",
        "  return\n",
        "int(input(\"Enter a positive number:\"))\n",
        "\n",
        "def sum_of_positive_numbers():\n",
        "  sum_of_positive_numbers = 0\n",
        "  if sum_of_positive_numbers == 0:\n",
        "    print(\"No positive numbers entered.\")\n",
        "    return\n",
        "\n",
        "\n",
        "\n",
        "\n"
      ],
      "metadata": {
        "id": "tHn8DeDbTW4l",
        "colab": {
          "base_uri": "https://localhost:8080/"
        },
        "outputId": "00f514d7-6d9c-4821-9ea1-1c63a5ab5404"
      },
      "execution_count": 22,
      "outputs": [
        {
          "name": "stdout",
          "output_type": "stream",
          "text": [
            "Enter a positive number:-8\n"
          ]
        }
      ]
    },
    {
      "cell_type": "markdown",
      "source": [
        "# Submission\n",
        "\n",
        "#### When you're done, you can download and submit:\n",
        "1. Click the \"File\" menu in the top left,\n",
        "2. Towards the bottom of the menu, press Download > Download .py\n",
        "3. Submit your .py file\n",
        "\n",
        "#### Or submit a link to your notebook:\n",
        "1. Click the \"Share\" button in the top right,\n",
        "2. Allow access to \"Anyone With The Link\"\n",
        "3. Copy the link into the submission page on Blackboard"
      ],
      "metadata": {
        "id": "mN-3r4UZTWYJ"
      }
    }
  ]
}