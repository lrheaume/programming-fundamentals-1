{
  "nbformat": 4,
  "nbformat_minor": 0,
  "metadata": {
    "colab": {
      "provenance": [],
      "authorship_tag": "ABX9TyPQNb4vLGNtPe5I0Bq4q9td",
      "include_colab_link": true
    },
    "kernelspec": {
      "name": "python3",
      "display_name": "Python 3"
    },
    "language_info": {
      "name": "python"
    }
  },
  "cells": [
    {
      "cell_type": "markdown",
      "metadata": {
        "id": "view-in-github",
        "colab_type": "text"
      },
      "source": [
        "<a href=\"https://colab.research.google.com/github/lvrheaume/programming-fundamentals-1/blob/main/Rheaume_lab5A.ipynb\" target=\"_parent\"><img src=\"https://colab.research.google.com/assets/colab-badge.svg\" alt=\"Open In Colab\"/></a>"
      ]
    },
    {
      "cell_type": "code",
      "execution_count": 42,
      "metadata": {
        "colab": {
          "base_uri": "https://localhost:8080/"
        },
        "collapsed": true,
        "id": "krWDU2piT_dc",
        "outputId": "7e4152b3-3d01-4e28-ad01-56b953714734"
      },
      "outputs": [
        {
          "output_type": "stream",
          "name": "stdout",
          "text": [
            "Requirement already satisfied: numpy in /usr/local/lib/python3.11/dist-packages (1.26.4)\n",
            "Enter your rating for the meal:4\n",
            "Enter your numerical rating of your meal\n",
            "Enter your numerical rating of your meal\n"
          ]
        },
        {
          "output_type": "stream",
          "name": "stderr",
          "text": [
            "/usr/local/lib/python3.11/dist-packages/numpy/core/fromnumeric.py:3504: RuntimeWarning: Mean of empty slice.\n",
            "  return _methods._mean(a, axis=axis, dtype=dtype,\n",
            "/usr/local/lib/python3.11/dist-packages/numpy/core/_methods.py:129: RuntimeWarning: invalid value encountered in scalar divide\n",
            "  ret = ret.dtype.type(ret / rcount)\n"
          ]
        }
      ],
      "source": [
        "#rheaume_lab5A\n",
        "#Void Functions and Star Rating Lab\n",
        "#two modules, main and the rating avg function, looped with user input\n",
        "!pip install numpy\n",
        "def determine_star_rating(rating_avg):\n",
        "  input(\"Enter your rating for the meal:\");\n",
        "  if rating_avg == ():\n",
        "    print(\"No ratings yet\")\n",
        "  if rating_avg == 10:\n",
        "    print(\"Invalid rating. Please enter a valid number from 1 to 10:\")\n",
        "  elif rating_avg == 1:\n",
        "    print(\"Not valid. Please enter a valid rating:\")\n",
        "#RATING AVERAGE FUNCTION\n",
        "def rating_avg():\n",
        "  ratings = []\n",
        "  while True:\n",
        "    try:\n",
        "      rating = float(input(\"Enter your rating for the meal: \"))\n",
        "      if 1 <= rating <= 10:\n",
        "        ratings.append(rating)\n",
        "      else:\n",
        "        print(\"Invalid rating. Please enter a valid number from 1 to 10.\")\n",
        "    except ValueError:\n",
        "      print(\"Invalid input. Please enter a valid number.\")\n",
        "      return np.mean(ratings)\n",
        "      print(floating_average(ratings));\n",
        "      if rating_avg == ():\n",
        "        print(\"No ratings yet\")\n",
        "      if rating_avg > 10:\n",
        "        print(\"Invalid rating. Please enter a valid number from 1 to 10:\")\n",
        "\n",
        "#main Function\n",
        "def main():\n",
        "  import numpy as np\n",
        "  ratings = []\n",
        "  #suggested by Colab, aiming to get the library that permits numerical or arithmetic mean and storing values for retrieval\n",
        "  return np.mean(ratings)\n",
        "\n",
        "#void Function block\n",
        "determine_star_rating(rating_avg)\n",
        "print(\"Enter your numerical rating of your meal\")\n",
        "#void section, to loop back to user input\n",
        "if __name__ == \"__main__\":\n",
        "  main()\n",
        "\n",
        "  print(\"Enter your numerical rating of your meal\")\n",
        "\n",
        "\n",
        "\n",
        "\n",
        "\n",
        "\n"
      ]
    },
    {
      "cell_type": "code",
      "execution_count": 39,
      "metadata": {
        "id": "wfvjsN71Ykuu",
        "colab": {
          "base_uri": "https://localhost:8080/",
          "height": 228
        },
        "outputId": "11c95541-4b1e-4229-e579-4b5c8dbfa328"
      },
      "outputs": [
        {
          "output_type": "stream",
          "name": "stdout",
          "text": [
            "Requirement already satisfied: numpy in /usr/local/lib/python3.11/dist-packages (1.26.4)\n"
          ]
        },
        {
          "output_type": "error",
          "ename": "AttributeError",
          "evalue": "'function' object has no attribute 'main'",
          "traceback": [
            "\u001b[0;31m---------------------------------------------------------------------------\u001b[0m",
            "\u001b[0;31mAttributeError\u001b[0m                            Traceback (most recent call last)",
            "\u001b[0;32m<ipython-input-39-4ed698b00298>\u001b[0m in \u001b[0;36m<cell line: 0>\u001b[0;34m()\u001b[0m\n\u001b[1;32m      1\u001b[0m \u001b[0mget_ipython\u001b[0m\u001b[0;34m(\u001b[0m\u001b[0;34m)\u001b[0m\u001b[0;34m.\u001b[0m\u001b[0msystem\u001b[0m\u001b[0;34m(\u001b[0m\u001b[0;34m'pip install numpy'\u001b[0m\u001b[0;34m)\u001b[0m\u001b[0;34m\u001b[0m\u001b[0;34m\u001b[0m\u001b[0m\n\u001b[0;32m----> 2\u001b[0;31m \u001b[0mrating_avg\u001b[0m\u001b[0;34m.\u001b[0m\u001b[0mmain\u001b[0m\u001b[0;34m(\u001b[0m\u001b[0;34m...\u001b[0m\u001b[0;34m)\u001b[0m\u001b[0;34m;\u001b[0m\u001b[0;34m\u001b[0m\u001b[0;34m\u001b[0m\u001b[0m\n\u001b[0m\u001b[1;32m      3\u001b[0m \u001b[0;32mif\u001b[0m \u001b[0mrating_avg\u001b[0m \u001b[0;34m==\u001b[0m \u001b[0;34m(\u001b[0m\u001b[0;34m)\u001b[0m\u001b[0;34m:\u001b[0m\u001b[0;34m\u001b[0m\u001b[0;34m\u001b[0m\u001b[0m\n\u001b[1;32m      4\u001b[0m   \u001b[0mprint\u001b[0m\u001b[0;34m(\u001b[0m\u001b[0;34m\"No ratings yet\"\u001b[0m\u001b[0;34m)\u001b[0m\u001b[0;34m\u001b[0m\u001b[0;34m\u001b[0m\u001b[0m\n\u001b[1;32m      5\u001b[0m   \u001b[0;32mif\u001b[0m \u001b[0mrating_avg\u001b[0m \u001b[0;34m>\u001b[0m \u001b[0;36m10\u001b[0m\u001b[0;34m:\u001b[0m\u001b[0;34m\u001b[0m\u001b[0;34m\u001b[0m\u001b[0m\n",
            "\u001b[0;31mAttributeError\u001b[0m: 'function' object has no attribute 'main'"
          ]
        }
      ],
      "source": [
        "!pip install numpy\n",
        "rating_avg.main(...);\n",
        "if rating_avg == ():\n",
        "  print(\"No ratings yet\")\n",
        "  if rating_avg > 10:\n",
        "    print(\"Invalid rating. Please enter a valid number from 1 to 10:\")\n",
        "elif rating_avg < 1:\n",
        "  print(\"Not valid. Please enter a valid rating:\")\n",
        "  return np.mean(rating_avg)"
      ]
    },
    {
      "cell_type": "code",
      "execution_count": 17,
      "metadata": {
        "id": "GQ18Kd5F3uKe",
        "colab": {
          "base_uri": "https://localhost:8080/"
        },
        "outputId": "77b78839-e6da-4081-cae3-75e9627e2b22"
      },
      "outputs": [
        {
          "output_type": "stream",
          "name": "stdout",
          "text": [
            "Requirement already satisfied: matplotlib-venn in /usr/local/lib/python3.11/dist-packages (1.1.2)\n",
            "Requirement already satisfied: matplotlib in /usr/local/lib/python3.11/dist-packages (from matplotlib-venn) (3.10.0)\n",
            "Requirement already satisfied: numpy in /usr/local/lib/python3.11/dist-packages (from matplotlib-venn) (1.26.4)\n",
            "Requirement already satisfied: scipy in /usr/local/lib/python3.11/dist-packages (from matplotlib-venn) (1.13.1)\n",
            "Requirement already satisfied: contourpy>=1.0.1 in /usr/local/lib/python3.11/dist-packages (from matplotlib->matplotlib-venn) (1.3.1)\n",
            "Requirement already satisfied: cycler>=0.10 in /usr/local/lib/python3.11/dist-packages (from matplotlib->matplotlib-venn) (0.12.1)\n",
            "Requirement already satisfied: fonttools>=4.22.0 in /usr/local/lib/python3.11/dist-packages (from matplotlib->matplotlib-venn) (4.56.0)\n",
            "Requirement already satisfied: kiwisolver>=1.3.1 in /usr/local/lib/python3.11/dist-packages (from matplotlib->matplotlib-venn) (1.4.8)\n",
            "Requirement already satisfied: packaging>=20.0 in /usr/local/lib/python3.11/dist-packages (from matplotlib->matplotlib-venn) (24.2)\n",
            "Requirement already satisfied: pillow>=8 in /usr/local/lib/python3.11/dist-packages (from matplotlib->matplotlib-venn) (11.1.0)\n",
            "Requirement already satisfied: pyparsing>=2.3.1 in /usr/local/lib/python3.11/dist-packages (from matplotlib->matplotlib-venn) (3.2.1)\n",
            "Requirement already satisfied: python-dateutil>=2.7 in /usr/local/lib/python3.11/dist-packages (from matplotlib->matplotlib-venn) (2.8.2)\n",
            "Requirement already satisfied: six>=1.5 in /usr/local/lib/python3.11/dist-packages (from python-dateutil>=2.7->matplotlib->matplotlib-venn) (1.17.0)\n"
          ]
        }
      ],
      "source": [
        "#!pip install matplotlib-venn"
      ]
    },
    {
      "cell_type": "code",
      "source": [
        "# I took my snippets over to Gemini to help me find where the void functions may be useful in order to get multiple user inputs and then update the aggregated value based on them. This is what it gave me but I am not 100% sure what it is talking about here. Included for sample and feedback. I got a little stuck."
      ],
      "metadata": {
        "id": "NPq-ysJ1YJj0"
      },
      "execution_count": null,
      "outputs": []
    },
    {
      "cell_type": "code",
      "source": [
        "#working with Gemini, 'corrected' code'\n",
        "\n",
        "import numpy as np\n",
        "\n",
        "def collect_ratings(ratings=None):\n",
        "    \"\"\"Collects ratings from the user, appending to an existing list or creating a new one.\"\"\"\n",
        "    if ratings is None:\n",
        "        ratings = []\n",
        "    while True:\n",
        "        try:\n",
        "            rating = input(\"Enter a rating (1-10, or 'done' to finish): \")\n",
        "            if rating.lower() == 'done':\n",
        "                break\n",
        "            rating = int(rating)\n",
        "            if 1 <= rating <= 10:\n",
        "                ratings.append(rating)\n",
        "            else:\n",
        "                print(\"Invalid rating. Please enter a number between 1 and 10.\")\n",
        "        except ValueError:\n",
        "            print(\"Invalid input. Please enter a number or 'done'.\")\n",
        "    return ratings\n",
        "\n",
        "def calculate_average_and_stars(ratings):\n",
        "    \"\"\"Calculates the average rating and converts it to a 5-star rating.\"\"\"\n",
        "    if not ratings:\n",
        "        print(\"No ratings yet.\")\n",
        "        return None\n",
        "    average_10_scale = np.mean(ratings)\n",
        "    average_5_star = round(average_10_scale / 2)\n",
        "    print(f\"Average rating (1-10 scale): {average_10_scale:.2f}\")\n",
        "    print(f\"Average rating (5-star scale): {average_5_star} stars\")\n",
        "    return average_5_star\n",
        "\n",
        "def main():\n",
        "    \"\"\"Main function to orchestrate rating collection and display.\"\"\"\n",
        "    ratings = []  # Initialize an empty list\n",
        "    while True:\n",
        "        ratings = collect_ratings(ratings) # collecting ratings, and appending to the existing list.\n",
        "        if not ratings:\n",
        "            break # break the loop if no ratings were entered.\n",
        "        calculate_average_and_stars(ratings)\n",
        "        add_more = input(\"Do you want to add more ratings? (yes/no): \")\n",
        "        if add_more.lower() != 'yes':\n",
        "            break\n",
        "\n",
        "if __name__ == \"__main__\":\n",
        "    main()"
      ],
      "outputs": [
        {
          "output_type": "stream",
          "name": "stdout",
          "text": [
            "Enter a rating (1-10, or 'done' to finish): 9\n",
            "Enter a rating (1-10, or 'done' to finish): 3\n",
            "Enter a rating (1-10, or 'done' to finish): 2\n",
            "Enter a rating (1-10, or 'done' to finish): 8\n",
            "Enter a rating (1-10, or 'done' to finish): done\n",
            "Average rating (1-10 scale): 5.50\n",
            "Average rating (5-star scale): 3 stars\n",
            "Do you want to add more ratings? (yes/no): yes\n",
            "Enter a rating (1-10, or 'done' to finish): 9\n",
            "Enter a rating (1-10, or 'done' to finish): 5\n",
            "Enter a rating (1-10, or 'done' to finish): n\n",
            "Invalid input. Please enter a number or 'done'.\n",
            "Enter a rating (1-10, or 'done' to finish): done\n",
            "Average rating (1-10 scale): 6.00\n",
            "Average rating (5-star scale): 3 stars\n"
          ]
        },
        {
          "output_type": "error",
          "ename": "KeyboardInterrupt",
          "evalue": "Interrupted by user",
          "traceback": [
            "\u001b[0;31m---------------------------------------------------------------------------\u001b[0m",
            "\u001b[0;31mKeyboardInterrupt\u001b[0m                         Traceback (most recent call last)",
            "\u001b[0;32m<ipython-input-43-480d0aff69dd>\u001b[0m in \u001b[0;36m<cell line: 0>\u001b[0;34m()\u001b[0m\n\u001b[1;32m     45\u001b[0m \u001b[0;34m\u001b[0m\u001b[0m\n\u001b[1;32m     46\u001b[0m \u001b[0;32mif\u001b[0m \u001b[0m__name__\u001b[0m \u001b[0;34m==\u001b[0m \u001b[0;34m\"__main__\"\u001b[0m\u001b[0;34m:\u001b[0m\u001b[0;34m\u001b[0m\u001b[0;34m\u001b[0m\u001b[0m\n\u001b[0;32m---> 47\u001b[0;31m     \u001b[0mmain\u001b[0m\u001b[0;34m(\u001b[0m\u001b[0;34m)\u001b[0m\u001b[0;34m\u001b[0m\u001b[0;34m\u001b[0m\u001b[0m\n\u001b[0m",
            "\u001b[0;32m<ipython-input-43-480d0aff69dd>\u001b[0m in \u001b[0;36mmain\u001b[0;34m()\u001b[0m\n\u001b[1;32m     40\u001b[0m             \u001b[0;32mbreak\u001b[0m \u001b[0;31m# break the loop if no ratings were entered.\u001b[0m\u001b[0;34m\u001b[0m\u001b[0;34m\u001b[0m\u001b[0m\n\u001b[1;32m     41\u001b[0m         \u001b[0mcalculate_average_and_stars\u001b[0m\u001b[0;34m(\u001b[0m\u001b[0mratings\u001b[0m\u001b[0;34m)\u001b[0m\u001b[0;34m\u001b[0m\u001b[0;34m\u001b[0m\u001b[0m\n\u001b[0;32m---> 42\u001b[0;31m         \u001b[0madd_more\u001b[0m \u001b[0;34m=\u001b[0m \u001b[0minput\u001b[0m\u001b[0;34m(\u001b[0m\u001b[0;34m\"Do you want to add more ratings? (yes/no): \"\u001b[0m\u001b[0;34m)\u001b[0m\u001b[0;34m\u001b[0m\u001b[0;34m\u001b[0m\u001b[0m\n\u001b[0m\u001b[1;32m     43\u001b[0m         \u001b[0;32mif\u001b[0m \u001b[0madd_more\u001b[0m\u001b[0;34m.\u001b[0m\u001b[0mlower\u001b[0m\u001b[0;34m(\u001b[0m\u001b[0;34m)\u001b[0m \u001b[0;34m!=\u001b[0m \u001b[0;34m'yes'\u001b[0m\u001b[0;34m:\u001b[0m\u001b[0;34m\u001b[0m\u001b[0;34m\u001b[0m\u001b[0m\n\u001b[1;32m     44\u001b[0m             \u001b[0;32mbreak\u001b[0m\u001b[0;34m\u001b[0m\u001b[0;34m\u001b[0m\u001b[0m\n",
            "\u001b[0;32m/usr/local/lib/python3.11/dist-packages/ipykernel/kernelbase.py\u001b[0m in \u001b[0;36mraw_input\u001b[0;34m(self, prompt)\u001b[0m\n\u001b[1;32m   1175\u001b[0m                 \u001b[0;34m\"raw_input was called, but this frontend does not support input requests.\"\u001b[0m\u001b[0;34m\u001b[0m\u001b[0;34m\u001b[0m\u001b[0m\n\u001b[1;32m   1176\u001b[0m             )\n\u001b[0;32m-> 1177\u001b[0;31m         return self._input_request(\n\u001b[0m\u001b[1;32m   1178\u001b[0m             \u001b[0mstr\u001b[0m\u001b[0;34m(\u001b[0m\u001b[0mprompt\u001b[0m\u001b[0;34m)\u001b[0m\u001b[0;34m,\u001b[0m\u001b[0;34m\u001b[0m\u001b[0;34m\u001b[0m\u001b[0m\n\u001b[1;32m   1179\u001b[0m             \u001b[0mself\u001b[0m\u001b[0;34m.\u001b[0m\u001b[0m_parent_ident\u001b[0m\u001b[0;34m[\u001b[0m\u001b[0;34m\"shell\"\u001b[0m\u001b[0;34m]\u001b[0m\u001b[0;34m,\u001b[0m\u001b[0;34m\u001b[0m\u001b[0;34m\u001b[0m\u001b[0m\n",
            "\u001b[0;32m/usr/local/lib/python3.11/dist-packages/ipykernel/kernelbase.py\u001b[0m in \u001b[0;36m_input_request\u001b[0;34m(self, prompt, ident, parent, password)\u001b[0m\n\u001b[1;32m   1217\u001b[0m             \u001b[0;32mexcept\u001b[0m \u001b[0mKeyboardInterrupt\u001b[0m\u001b[0;34m:\u001b[0m\u001b[0;34m\u001b[0m\u001b[0;34m\u001b[0m\u001b[0m\n\u001b[1;32m   1218\u001b[0m                 \u001b[0;31m# re-raise KeyboardInterrupt, to truncate traceback\u001b[0m\u001b[0;34m\u001b[0m\u001b[0;34m\u001b[0m\u001b[0m\n\u001b[0;32m-> 1219\u001b[0;31m                 \u001b[0;32mraise\u001b[0m \u001b[0mKeyboardInterrupt\u001b[0m\u001b[0;34m(\u001b[0m\u001b[0;34m\"Interrupted by user\"\u001b[0m\u001b[0;34m)\u001b[0m \u001b[0;32mfrom\u001b[0m \u001b[0;32mNone\u001b[0m\u001b[0;34m\u001b[0m\u001b[0;34m\u001b[0m\u001b[0m\n\u001b[0m\u001b[1;32m   1220\u001b[0m             \u001b[0;32mexcept\u001b[0m \u001b[0mException\u001b[0m\u001b[0;34m:\u001b[0m\u001b[0;34m\u001b[0m\u001b[0;34m\u001b[0m\u001b[0m\n\u001b[1;32m   1221\u001b[0m                 \u001b[0mself\u001b[0m\u001b[0;34m.\u001b[0m\u001b[0mlog\u001b[0m\u001b[0;34m.\u001b[0m\u001b[0mwarning\u001b[0m\u001b[0;34m(\u001b[0m\u001b[0;34m\"Invalid Message:\"\u001b[0m\u001b[0;34m,\u001b[0m \u001b[0mexc_info\u001b[0m\u001b[0;34m=\u001b[0m\u001b[0;32mTrue\u001b[0m\u001b[0;34m)\u001b[0m\u001b[0;34m\u001b[0m\u001b[0;34m\u001b[0m\u001b[0m\n",
            "\u001b[0;31mKeyboardInterrupt\u001b[0m: Interrupted by user"
          ]
        }
      ],
      "execution_count": 43,
      "metadata": {
        "id": "1b05oCPXd3xw",
        "colab": {
          "base_uri": "https://localhost:8080/",
          "height": 582
        },
        "outputId": "6a31b716-af4f-49c1-c036-e80eac48d37c"
      }
    }
  ]
}