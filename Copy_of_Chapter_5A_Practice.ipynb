{
  "nbformat": 4,
  "nbformat_minor": 0,
  "metadata": {
    "colab": {
      "provenance": [],
      "include_colab_link": true
    },
    "kernelspec": {
      "name": "python3",
      "display_name": "Python 3"
    },
    "language_info": {
      "name": "python"
    }
  },
  "cells": [
    {
      "cell_type": "markdown",
      "metadata": {
        "id": "view-in-github",
        "colab_type": "text"
      },
      "source": [
        "<a href=\"https://colab.research.google.com/github/lvrheaume/programming-fundamentals-1/blob/main/Copy_of_Chapter_5A_Practice.ipynb\" target=\"_parent\"><img src=\"https://colab.research.google.com/assets/colab-badge.svg\" alt=\"Open In Colab\"/></a>"
      ]
    },
    {
      "cell_type": "markdown",
      "source": [
        "# First:\n",
        "1. Log in with your ACC Google account\n",
        "2. Use the **File > Save a Copy in Drive** menu option in the top left to make a copy of this notebook that you can edit."
      ],
      "metadata": {
        "id": "ykQz4xHrTbcg"
      }
    },
    {
      "cell_type": "markdown",
      "source": [
        "# Part 1\n",
        "\n",
        "Write a hierarchy chart for the steps\n",
        "needed to make a sandwich (no more than 5 steps). Then write the Python program to display the\n",
        "steps. (See the example in Chapter 5.3 -- your work should look very similar)\n",
        "\n",
        "1. First draw the hierarchy of the functions, The main function should:\n",
        "- Display an intro message to the user (Ex.– “Hello this is how you make a\n",
        "sandwich”)\n",
        "- Call the step1 function\n",
        "- Call the step2 function\n",
        "- Call all remaining step functions\n",
        "- Display an exit message on a new line (Ex. – “Goodbye”)\n",
        "2. Then write the Python Program\n",
        "- Intro function should display your intro message\n",
        "- Step1 function should display step 1\n",
        "- Step2 function should display step 2 … etc.\n",
        "- Goodbye function should display your final message\n",
        "\n",
        "Again, the example in the book is your friend. Attach your hierarchy diagram to the assignment on Blackboard, or copy-paste it into this Colab notebook."
      ],
      "metadata": {
        "id": "1MYHqF1uS1NF"
      }
    },
    {
      "cell_type": "code",
      "execution_count": null,
      "metadata": {
        "id": "NWzkKAtDSqz7"
      },
      "outputs": [],
      "source": []
    },
    {
      "cell_type": "code",
      "source": [
        "import IPython\n",
        "from google.colab import output\n",
        "\n",
        "def Concat(a, b):\n",
        "  # Use display.JSON to transfer a structured result.\n",
        "  return IPython.display.JSON({'result': ' '.join((a, b))})\n",
        "\n",
        "output.register_callback('notebook.Concat', Concat)"
      ],
      "metadata": {
        "id": "aFaZJBN2kFsX"
      },
      "execution_count": null,
      "outputs": []
    },
    {
      "cell_type": "code",
      "source": [
        "%%javascript\n",
        "(async function() {\n",
        "  const result = await google.colab.kernel.invokeFunction(\n",
        "    'notebook.Concat', // The callback name.\n",
        "    ['hello', 'world!'], // The arguments.\n",
        "    {}); // kwargs\n",
        "  const text = result.data['application/json'];\n",
        "  document.querySelector(\"#output-area\").appendChild(document.createTextNode(text.result));\n",
        "})();"
      ],
      "metadata": {
        "id": "VZyApQl3kFsZ"
      },
      "execution_count": null,
      "outputs": []
    },
    {
      "cell_type": "code",
      "source": [
        "import IPython\n",
        "from google.colab import output\n",
        "\n",
        "display(IPython.display.HTML('''\n",
        "    The items:\n",
        "    <br><ol id=\"items\"></ol>\n",
        "    <button id='button'>Click to add</button>\n",
        "    <script>\n",
        "      document.querySelector('#button').onclick = () => {\n",
        "        google.colab.kernel.invokeFunction('notebook.AddListItem', [], {});\n",
        "      };\n",
        "    </script>\n",
        "    '''))\n",
        "\n",
        "def add_list_item():\n",
        "  # Use redirect_to_element to direct the elements which are being written.\n",
        "  with output.redirect_to_element('#items'):\n",
        "    # Use display to add items which will be persisted on notebook reload.\n",
        "    display(IPython.display.HTML('<li> Another item</li>'))\n",
        "\n",
        "output.register_callback('notebook.AddListItem', add_list_item)"
      ],
      "metadata": {
        "id": "sHyORQSPkFsa"
      },
      "execution_count": null,
      "outputs": []
    },
    {
      "cell_type": "code",
      "source": [
        "import IPython\n",
        "import uuid\n",
        "from google.colab import output\n",
        "\n",
        "class InvokeButton(object):\n",
        "  def __init__(self, title, callback):\n",
        "    self._title = title\n",
        "    self._callback = callback\n",
        "\n",
        "  def _repr_html_(self):\n",
        "    callback_id = 'button-' + str(uuid.uuid4())\n",
        "    output.register_callback(callback_id, self._callback)\n",
        "\n",
        "    template = \"\"\"<button id=\"{callback_id}\">{title}</button>\n",
        "        <script>\n",
        "          document.querySelector(\"#{callback_id}\").onclick = (e) => {{\n",
        "            google.colab.kernel.invokeFunction('{callback_id}', [], {{}})\n",
        "            e.preventDefault();\n",
        "          }};\n",
        "        </script>\"\"\"\n",
        "    html = template.format(title=self._title, callback_id=callback_id)\n",
        "    return html\n",
        "\n",
        "def do_something():\n",
        "  print('here')\n",
        "\n",
        "InvokeButton('click me', do_something)"
      ],
      "metadata": {
        "id": "HhiMLPSbkFsa"
      },
      "execution_count": null,
      "outputs": []
    },
    {
      "cell_type": "markdown",
      "source": [
        "# Part 2\n",
        "Write a program that asks the user to enter a\n",
        "distance in kilometers, and then converts that distance to miles. The\n",
        "conversion formula is as follows:\n",
        "\n",
        "**Miles = Kilometers x 0.6214**\n",
        "\n",
        "1. Your program should have two functions:\n",
        "- a main function and\n",
        "- a function to convert and print the miles\n",
        "2. The main function should ask the user for number of kilometers and pass\n",
        "that to the conversion function.\n",
        "3. The conversion function should calculate the miles and then display to the user\n",
        "4. Use a global constant for the conversion factor\n",
        "5. Turn in your program to the practice assignment link in course content."
      ],
      "metadata": {
        "id": "DbdKNL5RTJo8"
      }
    },
    {
      "cell_type": "code",
      "source": [
        "# Write your code here"
      ],
      "metadata": {
        "id": "tHn8DeDbTW4l"
      },
      "execution_count": null,
      "outputs": []
    },
    {
      "cell_type": "markdown",
      "source": [
        "# Submission\n",
        "\n",
        "#### When you're done, you can download and submit:\n",
        "1. Click the \"File\" menu in the top left,\n",
        "2. Towards the bottom of the menu, press Download > Download .py\n",
        "3. Submit your .py file\n",
        "\n",
        "#### Or submit a link to your notebook:\n",
        "1. Click the \"Share\" button in the top right,\n",
        "2. Allow access to \"Anyone With The Link\"\n",
        "3. Copy the link into the submission page on Blackboard"
      ],
      "metadata": {
        "id": "mN-3r4UZTWYJ"
      }
    }
  ]
}